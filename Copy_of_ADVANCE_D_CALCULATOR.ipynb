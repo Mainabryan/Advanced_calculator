{
  "nbformat": 4,
  "nbformat_minor": 0,
  "metadata": {
    "colab": {
      "provenance": [],
      "authorship_tag": "ABX9TyOU4SkG6Vm8GLrSYkZ2phmT",
      "include_colab_link": true
    },
    "kernelspec": {
      "name": "python3",
      "display_name": "Python 3"
    },
    "language_info": {
      "name": "python"
    }
  },
  "cells": [
    {
      "cell_type": "markdown",
      "metadata": {
        "id": "view-in-github",
        "colab_type": "text"
      },
      "source": [
        "<a href=\"https://colab.research.google.com/github/Mainabryan/Advanced_calculator/blob/main/Copy_of_ADVANCE_D_CALCULATOR.ipynb\" target=\"_parent\"><img src=\"https://colab.research.google.com/assets/colab-badge.svg\" alt=\"Open In Colab\"/></a>"
      ]
    },
    {
      "cell_type": "code",
      "execution_count": null,
      "metadata": {
        "colab": {
          "base_uri": "https://localhost:8080/"
        },
        "id": "1QYcs299BlOG",
        "outputId": "da107c87-2750-48ad-9463-a1602b8efd07"
      },
      "outputs": [
        {
          "output_type": "stream",
          "name": "stdout",
          "text": [
            "\n",
            "--- Simple Calculator ---\n"
          ]
        }
      ],
      "source": [
        "class Calculator:\n",
        "    def __init__(self):\n",
        "        self.operations = {\n",
        "            \"+\": lambda x, y: x + y,\n",
        "            \"-\": lambda x, y: x - y,\n",
        "            \"*\": lambda x, y: x * y,\n",
        "            \"/\": lambda x, y: \"Cannot divide by zero.\" if y == 0 else x / y\n",
        "        }\n",
        "\n",
        "    def add_operation(self, symbol, function):\n",
        "        \"\"\"Dynamically add new operations to the calculator\"\"\"\n",
        "        self.operations[symbol] = function\n",
        "\n",
        "    def calculate(self, num1, operation, num2):\n",
        "        \"\"\"Performs the calculation based on the chosen operation\"\"\"\n",
        "        if operation not in self.operations:\n",
        "            print(f\"Error: '{operation}' is not a valid operation.\")\n",
        "            raise ValueError(f\"Invalid operation: {operation}\")\n",
        "        elif operation == \"/\" and num2 == 0:\n",
        "            print(\"Error: cannot divide by zero.\")\n",
        "            return None\n",
        "        else:\n",
        "            func = self.operations[operation]\n",
        "            return func(num1, num2)\n",
        "\n",
        "# Create a calculator instance\n",
        "calc = Calculator()\n",
        "\n",
        "# Run the calculator in a loop\n",
        "while True:\n",
        "    print(\"\\n--- Simple Calculator ---\")\n",
        "\n",
        "    try:\n",
        "        num1 = float(input(\"Enter first number: \"))\n",
        "        operation = input(\"Enter operation (+, -, *, /): \")\n",
        "        num2 = float(input(\"Enter second number: \"))\n",
        "\n",
        "        result = calc.calculate(num1, operation, num2)\n",
        "        if result is not None:  # Check if result exists\n",
        "            print(f\"Result: {result}\")\n",
        "\n",
        "    except ValueError:\n",
        "        print(\"Invalid input! Please enter numbers only.\")\n",
        "    except ZeroDivisionError:\n",
        "        print(\"Error: Cannot divide by zero.\")\n",
        "\n",
        "    # Ask user if they want to continue\n",
        "    choice = input(\"Do you want to continue? (y/n): \").lower()\n",
        "    if choice != 'y':\n",
        "        print(\"Goodbye!\")\n",
        "        break\n"
      ]
    },
    {
      "cell_type": "code",
      "source": [
        "!pip install streamlit"
      ],
      "metadata": {
        "id": "ivhhjBO62CEU"
      },
      "execution_count": null,
      "outputs": []
    },
    {
      "cell_type": "markdown",
      "source": [
        "## Deploy the streamlit"
      ],
      "metadata": {
        "id": "LLQUd3bM5okR"
      }
    },
    {
      "cell_type": "code",
      "source": [
        "%%writefile app.py\n",
        "\n",
        "\n",
        "import streamlit as st\n",
        "\n",
        "class Calculator:\n",
        "    def __init__(self):\n",
        "        self.operations = {\n",
        "            \"+\": lambda x, y: x + y,\n",
        "            \"-\": lambda x, y: x - y,\n",
        "            \"*\": lambda x, y: x * y,\n",
        "            \"/\": lambda x, y: \"Cannot divide by zero.\" if y == 0 else x / y\n",
        "        }\n",
        "\n",
        "    def add_operation(self, symbol, function):\n",
        "        \"\"\"Dynamically add new operations to the calculator\"\"\"\n",
        "        self.operations[symbol] = function\n",
        "\n",
        "    def calculate(self, num1, operation, num2):\n",
        "        \"\"\"Performs the calculation based on the chosen operation\"\"\"\n",
        "        if operation not in self.operations:\n",
        "            return f\"Error: '{operation}' is not a valid operation.\"\n",
        "        func = self.operations[operation]\n",
        "        return func(num1, num2)\n",
        "\n",
        "# Streamlit app\n",
        "def main():\n",
        "    st.title(\"Simple Calculator\")\n",
        "\n",
        "    # Create calculator instance\n",
        "    calc = Calculator()\n",
        "\n",
        "    # Input fields\n",
        "    num1 = st.number_input(\"Enter first number\", format=\"%f\")\n",
        "    operation = st.selectbox(\"Select operation\", list(calc.operations.keys()))\n",
        "    num2 = st.number_input(\"Enter second number\", format=\"%f\")\n",
        "\n",
        "    # Calculate button\n",
        "    if st.button(\"Calculate\"):\n",
        "        try:\n",
        "            result = calc.calculate(num1, operation, num2)\n",
        "            if isinstance(result, str):\n",
        "                st.error(result)\n",
        "            else:\n",
        "                st.success(f\"Result: {result}\")\n",
        "        except Exception as e:\n",
        "            st.error(f\"Error: {str(e)}\")\n",
        "\n",
        "if __name__ == \"__main__\":\n",
        "    main()"
      ],
      "metadata": {
        "id": "lf5k1v2-5sJA"
      },
      "execution_count": null,
      "outputs": []
    },
    {
      "cell_type": "code",
      "source": [
        "%%writefile app.py\n"
      ],
      "metadata": {
        "id": "tjucxwXJ2wqv"
      },
      "execution_count": null,
      "outputs": []
    },
    {
      "cell_type": "code",
      "source": [
        "! wget -q -O - ipv4.icanhazip.com"
      ],
      "metadata": {
        "id": "c3TTgUAS26FA"
      },
      "execution_count": null,
      "outputs": []
    },
    {
      "cell_type": "code",
      "source": [
        "! streamlit run app.py & npx localtunnel --port 8501"
      ],
      "metadata": {
        "id": "gAuio26J3H_h"
      },
      "execution_count": null,
      "outputs": []
    },
    {
      "cell_type": "markdown",
      "source": [
        "## for streamlit"
      ],
      "metadata": {
        "id": "qBDQg5W25XWL"
      }
    }
  ]
}